{
 "cells": [
  {
   "cell_type": "code",
   "execution_count": 32,
   "metadata": {
    "collapsed": true
   },
   "outputs": [],
   "source": [
    "import numpy as np, pandas as pd\n",
    "%matplotlib inline"
   ]
  },
  {
   "cell_type": "code",
   "execution_count": 2,
   "metadata": {
    "collapsed": true
   },
   "outputs": [],
   "source": [
    "def bootstrap_resample(X, n=None):\n",
    "    if n == None:\n",
    "        n = len(X)\n",
    "    resample_i = np.floor(np.random.rand(n)*len(X)).astype(int)\n",
    "    X_resample = X[resample_i]\n",
    "    return X_resample"
   ]
  },
  {
   "cell_type": "code",
   "execution_count": 17,
   "metadata": {},
   "outputs": [
    {
     "name": "stdout",
     "output_type": "stream",
     "text": [
      "original mean: 5.63741839655\n",
      "resampled mean: 5.68150186828\n",
      "original median: 7.0\n",
      "resampled median: 7.0\n",
      "original mean: 18.1080461167\n",
      "resampled mean: 18.1763140543\n",
      "original median: 7.16667\n",
      "resampled median: 7.16667\n",
      "original mean: 18.1680377833\n",
      "resampled mean: 18.202756466\n",
      "original median: 7.316665\n",
      "resampled median: 7.33333\n",
      "original mean: 17.9754211167\n",
      "resampled mean: 17.5450732437\n",
      "original median: 7.0\n",
      "resampled median: 7.0\n",
      "original mean: 18.11232945\n",
      "resampled mean: 17.712791471\n",
      "original median: 7.125\n",
      "resampled median: 7.0\n"
     ]
    }
   ],
   "source": [
    "X = pd.read_csv(\"ds-boot-2.csv\",delimiter=\",\")\n",
    "X=X.values\n",
    "Y1=X[:,1:30]\n",
    "col=range(0,31)\n",
    "col.remove(29)\n",
    "Y2=X[:,col]\n",
    "col=range(0,32)\n",
    "col.remove(29)\n",
    "col.remove(30)\n",
    "Y3=X[:,col]\n",
    "col=range(0,33)\n",
    "col.remove(29)\n",
    "col.remove(30)\n",
    "col.remove(31)\n",
    "Y4=X[:,col]\n",
    "col=range(0,34)\n",
    "col.remove(29)\n",
    "col.remove(30)\n",
    "col.remove(31)\n",
    "col.remove(32)\n",
    "Y5=X[:,col]\n",
    "\n",
    "Y1_resample = bootstrap_resample(Y1, n=1000)\n",
    "print 'original mean:', Y1.mean()\n",
    "print 'resampled mean:', Y1_resample.mean()\n",
    "print 'original median:', np.median(Y1)\n",
    "print 'resampled median:', np.median(Y1_resample)\n",
    "\n",
    "Y2_resample = bootstrap_resample(Y2, n=1000)\n",
    "print 'original mean:', Y2.mean()\n",
    "print 'resampled mean:', Y2_resample.mean()\n",
    "print 'original median:', np.median(Y2)\n",
    "print 'resampled median:', np.median(Y2_resample)\n",
    "\n",
    "Y3_resample = bootstrap_resample(Y3, n=1000)\n",
    "print 'original mean:', Y3.mean()\n",
    "print 'resampled mean:', Y3_resample.mean()\n",
    "print 'original median:', np.median(Y3)\n",
    "print 'resampled median:', np.median(Y3_resample)\n",
    "\n",
    "Y4_resample = bootstrap_resample(Y4, n=1000)\n",
    "print 'original mean:', Y4.mean()\n",
    "print 'resampled mean:', Y4_resample.mean()\n",
    "print 'original median:', np.median(Y4)\n",
    "print 'resampled median:', np.median(Y4_resample)\n",
    "\n",
    "Y5_resample = bootstrap_resample(Y5, n=1000)\n",
    "print 'original mean:', Y5.mean()\n",
    "print 'resampled mean:', Y5_resample.mean()\n",
    "print 'original median:', np.median(Y5)\n",
    "print 'resampled median:', np.median(Y5_resample)"
   ]
  },
  {
   "cell_type": "code",
   "execution_count": 33,
   "metadata": {},
   "outputs": [
    {
     "name": "stdout",
     "output_type": "stream",
     "text": [
      "0.976402376244\n",
      "0.978439024541\n",
      "0.997436774352\n",
      "0.986130162711\n",
      "0.992845212453\n"
     ]
    },
    {
     "data": {
      "image/png": "[encoded data removed]",
      "text/plain": [
       "<matplotlib.figure.Figure at 0x130905b0>"
      ]
     },
     "metadata": {},
     "output_type": "display_data"
    },
    {
     "name": "stdout",
     "output_type": "stream",
     "text": [
      "95.0 confidence interval 97.7% and 99.7%\n"
     ]
    }
   ],
   "source": [
    "from sklearn.linear_model import LinearRegression\n",
    "from sklearn.metrics import r2_score\n",
    "from matplotlib import pyplot\n",
    "clf=LinearRegression()\n",
    "train=[Y1_resample,Y2_resample,Y3_resample,Y4_resample,Y5_resample]\n",
    "test=[Y1,Y2,Y3,Y4,Y5]\n",
    "stats=[]\n",
    "for i in range(0,5):\n",
    "    clf.fit(train[i][:,:-1],train[i][:,-1])\n",
    "    pred=clf.predict(test[i][:,:-1])\n",
    "    score = r2_score(test[i][:,-1], pred)\n",
    "    print(score)\n",
    "    stats.append(score)\n",
    "\n",
    "pyplot.hist(stats)\n",
    "pyplot.show()\n",
    "# confidence intervals\n",
    "alpha = 0.95\n",
    "p = ((1.0-alpha)/2.0) * 100\n",
    "lower = max(0.0, np.percentile(stats, p))\n",
    "p = (alpha+((1.0-alpha)/2.0)) * 100\n",
    "upper = min(1.0, np.percentile(stats, p))\n",
    "print('%.1f confidence interval %.1f%% and %.1f%%' % (alpha*100, lower*100, upper*100))\n",
    "\n",
    "    "
   ]
  },
  {
   "cell_type": "code",
   "execution_count": 31,
   "metadata": {
    "collapsed": true
   },
   "outputs": [],
   "source": [
    "###Exp2###"
   ]
  },
  {
   "cell_type": "code",
   "execution_count": 35,
   "metadata": {},
   "outputs": [
    {
     "name": "stdout",
     "output_type": "stream",
     "text": [
      "original mean: 4.21250941974\n",
      "resampled mean: 4.1502\n"
     ]
    }
   ],
   "source": [
    "X = pd.read_csv(\"ds-boot-1.csv\",delimiter=\",\")\n",
    "X=X.values\n",
    "B=X[:,1]\n",
    "B_resample = bootstrap_resample(B, n=5000)\n",
    "print 'original mean:', B.mean()\n",
    "print 'resampled mean:', B_resample.mean()"
   ]
  }
 ],
 "metadata": {
  "kernelspec": {
   "display_name": "Python 2",
   "language": "python",
   "name": "python2"
  },
  "language_info": {
   "codemirror_mode": {
    "name": "ipython",
    "version": 2
   },
   "file_extension": ".py",
   "mimetype": "text/x-python",
   "name": "python",
   "nbconvert_exporter": "python",
   "pygments_lexer": "ipython2",
   "version": "2.7.9"
  }
 },
 "nbformat": 4,
 "nbformat_minor": 2
}
